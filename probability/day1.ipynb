{
 "cells": [
  {
   "cell_type": "code",
   "execution_count": 46,
   "metadata": {},
   "outputs": [],
   "source": [
    "import numpy as np\n",
    "import matplotlib.pyplot as plt\n",
    "%matplotlib inline "
   ]
  },
  {
   "cell_type": "markdown",
   "metadata": {},
   "source": [
    "# Problem\n",
    "\n",
    "1. Bobo the amoeba has a 25%, 25%, and 50% chance of producing 0, 1, or 2 offspring, respectively. Each of Bobo’s descendants also have the same probabilities. What is the probability that Bobo’s lineage dies out?\n",
    "\n",
    "# Resources\n",
    "\n",
    " * https://stats.stackexchange.com/questions/4768/amoeba-interview-question\n",
    " * https://www.quora.com/Bobo-the-amoeba-has-a-25-25-and-50-chance-of-producing-0-1-or-2-offspring-respectively-Each-of-Bobos-descendants-also-have-the-same-probabilities-What-is-the-probability-that-Bobos-lineage-dies-out"
   ]
  },
  {
   "cell_type": "markdown",
   "metadata": {},
   "source": [
    "# Solution\n",
    "\n",
    "__What is the expected number of descendents?__ \n",
    "\n",
    "$ \\frac{5n}{4} $ *where n is the number of amoeba* "
   ]
  },
  {
   "cell_type": "code",
   "execution_count": 65,
   "metadata": {},
   "outputs": [
    {
     "data": {
      "text/plain": [
       "1.25047"
      ]
     },
     "execution_count": 65,
     "metadata": {},
     "output_type": "execute_result"
    }
   ],
   "source": [
    "def descendents():\n",
    "    val = np.random.uniform()\n",
    "    if val <= 0.25:\n",
    "        return 0\n",
    "    elif val <= 0.5:\n",
    "        return 1\n",
    "    else:\n",
    "        return 2\n",
    "\n",
    "# Simulating the expected value of descendents from 1 amoeba\n",
    "res = []\n",
    "for _ in range(100000):\n",
    "    res.append( descendents() )\n",
    "\n",
    "np.mean(res)"
   ]
  },
  {
   "cell_type": "code",
   "execution_count": 115,
   "metadata": {},
   "outputs": [],
   "source": [
    "def descendents_from(n):\n",
    "    res = 0\n",
    "    for _ in range(n):\n",
    "        res += descendents()\n",
    "    return res\n",
    "\n",
    "def survived(iterations = 10):\n",
    "    children = descendents()\n",
    "    if children == 0:\n",
    "        return 0\n",
    "    \n",
    "    for _ in range(iterations):\n",
    "        children = descendents_from(children)\n",
    "        if children == 0:\n",
    "            return 0\n",
    "    \n",
    "    return 1\n",
    "        "
   ]
  },
  {
   "cell_type": "code",
   "execution_count": 119,
   "metadata": {},
   "outputs": [
    {
     "data": {
      "text/plain": [
       "0.509"
      ]
     },
     "execution_count": 119,
     "metadata": {},
     "output_type": "execute_result"
    }
   ],
   "source": [
    "res = []\n",
    "for _ in range(10000):\n",
    "    res.append( survived() )\n",
    "\n",
    "np.mean(res)"
   ]
  },
  {
   "cell_type": "markdown",
   "metadata": {},
   "source": [
    "## Walking Through the solution (from the quora link)\n",
    "\n",
    "*Let's try and find 𝑃𝑛 as the probability that the lineage survives when there are n alive in the current generation.  Since the expected number of descendants is 5𝑛4 you should expect that once n is large enough survival of the lineage is all but guaranteed.  Putting this together we know that.*"
   ]
  },
  {
   "cell_type": "code",
   "execution_count": null,
   "metadata": {},
   "outputs": [],
   "source": []
  }
 ],
 "metadata": {
  "kernelspec": {
   "display_name": "Python 3",
   "language": "python",
   "name": "python3"
  },
  "language_info": {
   "codemirror_mode": {
    "name": "ipython",
    "version": 3
   },
   "file_extension": ".py",
   "mimetype": "text/x-python",
   "name": "python",
   "nbconvert_exporter": "python",
   "pygments_lexer": "ipython3",
   "version": "3.7.5"
  }
 },
 "nbformat": 4,
 "nbformat_minor": 2
}
