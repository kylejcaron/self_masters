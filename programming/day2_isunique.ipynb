{
 "cells": [
  {
   "cell_type": "markdown",
   "metadata": {},
   "source": [
    "# Problem\n",
    "\n",
    "*From Cracking the Coding Interview*\n",
    "```\n",
    "Is Unique: Implement an algorithm to determine if a string has all unique characters. What if you\n",
    "cannot use additional data structures? \n",
    "```\n",
    "\n",
    "# Solution\n",
    "\n",
    "```\n",
    "You should first ask your interviewer if the string is an ASCII string or a Unicode string. Asking this question\n",
    "will show an eye for detail and a solid foundation in computer science. We'll assume for simplicity the character set is ASCII. If this assumption is not valid, we would need to increase the storage size.\n",
    "\n",
    "One solution is to create an array of boolean values, where the flag at index i indicates whether character\n",
    "i in the alphabet is contained in the string. The second time you see this character you can immediately\n",
    "return false.\n",
    "\n",
    "We can also immediately return false if the string length exceeds the number of unique characters in the\n",
    "alphabet. After all, you can't form a string of 280 unique characters out of a 128-character alphabet. \n",
    "```"
   ]
  },
  {
   "cell_type": "markdown",
   "metadata": {},
   "source": [
    "# Notes\n",
    " * I'm not a CS major. What's the difference between unicode and ASCII?\n",
    "     * https://stackoverflow.com/questions/19212306/whats-the-difference-between-ascii-and-unicode (Andrew's answer is great)"
   ]
  },
  {
   "cell_type": "code",
   "execution_count": 4,
   "metadata": {},
   "outputs": [],
   "source": [
    "def isUnique(string):\n",
    "    # Only 128 unique characters in the ASCII original alphabet\n",
    "    if len(string) > 128: return False\n",
    "    \n",
    "    char_set = [False for _ in range(128)]\n",
    "    \n",
    "    for char in string:\n",
    "        val = ord(char)\n",
    "        if char_set[val]:\n",
    "            # Char is already in string\n",
    "            return False\n",
    "        char_set[val] = True\n",
    "    \n",
    "    return True\n"
   ]
  },
  {
   "cell_type": "code",
   "execution_count": 22,
   "metadata": {},
   "outputs": [
    {
     "name": "stdout",
     "output_type": "stream",
     "text": [
      "False True\n"
     ]
    }
   ],
   "source": [
    "print( isUnique('hello'), isUnique('world') )"
   ]
  },
  {
   "cell_type": "code",
   "execution_count": 21,
   "metadata": {},
   "outputs": [
    {
     "name": "stderr",
     "output_type": "stream",
     "text": [
      ".\n",
      "----------------------------------------------------------------------\n",
      "Ran 1 test in 0.001s\n",
      "\n",
      "OK\n"
     ]
    }
   ],
   "source": [
    "import unittest\n",
    "\n",
    "class Test(unittest.TestCase):\n",
    "    dataT = [('abcd'), ('world'), ('')]\n",
    "    dataF = [('hello'), ('( ) '), ('too')]\n",
    "\n",
    "    def test_unique(self):\n",
    "        # true check\n",
    "        for test_string in self.dataT:\n",
    "            actual = isUnique(test_string)\n",
    "            self.assertTrue(actual)\n",
    "        # false check\n",
    "        for test_string in self.dataF:\n",
    "            actual = isUnique(test_string)\n",
    "            self.assertFalse(actual)\n",
    "\n",
    "if __name__ == '__main__':\n",
    "    # Trick to run unittest in jupyter notebook\n",
    "    unittest.main( argv=['first-arg-is-ignored'], exit=False)"
   ]
  }
 ],
 "metadata": {
  "kernelspec": {
   "display_name": "Python 3",
   "language": "python",
   "name": "python3"
  },
  "language_info": {
   "codemirror_mode": {
    "name": "ipython",
    "version": 3
   },
   "file_extension": ".py",
   "mimetype": "text/x-python",
   "name": "python",
   "nbconvert_exporter": "python",
   "pygments_lexer": "ipython3",
   "version": "3.7.5"
  }
 },
 "nbformat": 4,
 "nbformat_minor": 2
}
