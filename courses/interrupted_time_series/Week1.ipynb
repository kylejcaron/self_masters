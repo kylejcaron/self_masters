{
 "cells": [
  {
   "cell_type": "markdown",
   "metadata": {},
   "source": [
    "# Reading\n",
    "---\n",
    "\n",
    " * https://www.academicpedsjnl.net/article/S1876-2859%2813%2900210-6/abstract\n",
    " * https://www.jclinepi.com/article/S0895-4356%2815%2900123-7/abstract\n",
    " * https://implementationscience.biomedcentral.com/articles/10.1186/1748-5908-9-77#B8\n",
    "\n",
    "# Threats to Validity\n",
    "---\n",
    "\n",
    "## Internal Validity\n",
    "\n",
    "Five major threats to internal valifity:\n",
    " 1. History\n",
    " 2. MAturation\n",
    " 3. Instrumentation & Testing\n",
    " 4. Statistical Regression\n",
    " 5. Selection"
   ]
  },
  {
   "cell_type": "code",
   "execution_count": null,
   "metadata": {},
   "outputs": [],
   "source": []
  }
 ],
 "metadata": {
  "kernelspec": {
   "display_name": "Python 3",
   "language": "python",
   "name": "python3"
  },
  "language_info": {
   "codemirror_mode": {
    "name": "ipython",
    "version": 3
   },
   "file_extension": ".py",
   "mimetype": "text/x-python",
   "name": "python",
   "nbconvert_exporter": "python",
   "pygments_lexer": "ipython3",
   "version": "3.7.5"
  }
 },
 "nbformat": 4,
 "nbformat_minor": 2
}
