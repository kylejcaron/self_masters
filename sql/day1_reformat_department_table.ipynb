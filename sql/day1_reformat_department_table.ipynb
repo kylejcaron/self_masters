{
 "cells": [
  {
   "cell_type": "markdown",
   "metadata": {},
   "source": [
    "# Problem\n",
    "\n",
    "## 1179. Reformat Department Table\n",
    "\n",
    "\n",
    "```\n",
    "Table: Department\n",
    "\n",
    "+---------------+---------+\n",
    "| Column Name   | Type    |\n",
    "+---------------+---------+\n",
    "| id            | int     |\n",
    "| revenue       | int     |\n",
    "| month         | varchar |\n",
    "+---------------+---------+\n",
    "\n",
    "(id, month) is the primary key of this table.\n",
    "The table has information about the revenue of each department per month.\n",
    "The month has values in [\"Jan\",\"Feb\",\"Mar\",\"Apr\",\"May\",\"Jun\",\"Jul\",\"Aug\",\"Sep\",\"Oct\",\"Nov\"\n",
    "\n",
    "\n",
    "Write an SQL query to reformat the table such that there is a department id column and a revenue column for each month.\n",
    "\n",
    "The query result format is in the following example:\n",
    "\n",
    "Department table:\n",
    "+------+---------+-------+\n",
    "| id   | revenue | month |\n",
    "+------+---------+-------+\n",
    "| 1    | 8000    | Jan   |\n",
    "| 2    | 9000    | Jan   |\n",
    "| 3    | 10000   | Feb   |\n",
    "| 1    | 7000    | Feb   |\n",
    "| 1    | 6000    | Mar   |\n",
    "+------+---------+-------+\n",
    "\n",
    "Result table:\n",
    "+------+-------------+-------------+-------------+-----+-------------+\n",
    "| id   | Jan_Revenue | Feb_Revenue | Mar_Revenue | ... | Dec_Revenue |\n",
    "+------+-------------+-------------+-------------+-----+-------------+\n",
    "| 1    | 8000        | 7000        | 6000        | ... | null        |\n",
    "| 2    | 9000        | null        | null        | ... | null        |\n",
    "| 3    | null        | 10000       | null        | ... | null        |\n",
    "+------+-------------+-------------+-------------+-----+-------------+\n",
    "\n",
    "Note that the result table has 13 columns (1 for the department id + 12 for the months).\n",
    "```"
   ]
  },
  {
   "cell_type": "markdown",
   "metadata": {},
   "source": [
    "## Solution"
   ]
  },
  {
   "cell_type": "code",
   "execution_count": 1,
   "metadata": {},
   "outputs": [],
   "source": [
    "q = '''\n",
    "Select \n",
    "    id, \n",
    "    SUM( CASE WHEN month='Jan' THEN revenue ELSE NULL END) as Jan_Revenue,\n",
    "    SUM( CASE WHEN month='Feb' THEN revenue ELSE NULL END) as Feb_Revenue,\n",
    "    SUM( CASE WHEN month='Mar' THEN revenue ELSE NULL END) as Mar_Revenue,\n",
    "    SUM( CASE WHEN month='Apr' THEN revenue ELSE NULL END) as Apr_Revenue,\n",
    "    SUM( CASE WHEN month='May' THEN revenue ELSE NULL END) as May_Revenue,\n",
    "    SUM( CASE WHEN month='Jun' THEN revenue ELSE NULL END) as Jun_Revenue,\n",
    "    SUM( CASE WHEN month='Jul' THEN revenue ELSE NULL END) as Jul_Revenue,\n",
    "    SUM( CASE WHEN month='Aug' THEN revenue ELSE NULL END) as Aug_Revenue,\n",
    "    SUM( CASE WHEN month='Sep' THEN revenue ELSE NULL END) as Sep_Revenue,\n",
    "    SUM( CASE WHEN month='Oct' THEN revenue ELSE NULL END) as Oct_Revenue,\n",
    "    SUM( CASE WHEN month='Nov' THEN revenue ELSE NULL END) as Nov_Revenue,\n",
    "    SUM( CASE WHEN month='Dec' THEN revenue ELSE NULL END) as Dec_Revenue\n",
    "FROM\n",
    "Department\n",
    "GROUP BY idL;\n",
    "'''"
   ]
  },
  {
   "cell_type": "code",
   "execution_count": null,
   "metadata": {},
   "outputs": [],
   "source": []
  }
 ],
 "metadata": {
  "kernelspec": {
   "display_name": "Python 3",
   "language": "python",
   "name": "python3"
  },
  "language_info": {
   "codemirror_mode": {
    "name": "ipython",
    "version": 3
   },
   "file_extension": ".py",
   "mimetype": "text/x-python",
   "name": "python",
   "nbconvert_exporter": "python",
   "pygments_lexer": "ipython3",
   "version": "3.7.5"
  }
 },
 "nbformat": 4,
 "nbformat_minor": 2
}
