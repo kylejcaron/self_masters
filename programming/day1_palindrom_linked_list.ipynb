{
 "cells": [
  {
   "cell_type": "markdown",
   "metadata": {},
   "source": [
    "# Palindrome Linked List\n",
    "\n",
    "(From Leetcode)\n",
    "\n",
    "## Problem\n",
    "\n",
    "Given a singly linked list, determine if it is a palindrome.\n",
    "\n",
    "__Example 1:__\n",
    "\n",
    "```\n",
    "Input: 1->2\n",
    "Output: false\n",
    "```\n",
    "__Example 2:__\n",
    "```\n",
    "Input: 1->2->2->1\n",
    "Output: true\n",
    "```\n",
    "\n",
    "__Follow up:__\n",
    "\n",
    "Could you do it in O(n) time and O(1) space?\n"
   ]
  },
  {
   "cell_type": "markdown",
   "metadata": {},
   "source": [
    "### Data Structure Provided"
   ]
  },
  {
   "cell_type": "code",
   "execution_count": 1,
   "metadata": {},
   "outputs": [],
   "source": [
    "class ListNode:\n",
    "    def __init__(self, x):\n",
    "        self.val = x\n",
    "        self.next = None"
   ]
  },
  {
   "cell_type": "markdown",
   "metadata": {},
   "source": [
    "### Useful functions to help testing"
   ]
  },
  {
   "cell_type": "code",
   "execution_count": 23,
   "metadata": {},
   "outputs": [],
   "source": [
    "def create_ll(string):\n",
    "    '''\n",
    "    Creates a Linked List containing a string.\n",
    "    '''\n",
    "    LL = ListNode(string[0])\n",
    "    prev = LL\n",
    "    \n",
    "    for i in range(1,len(string)):\n",
    "        curr = ListNode(string[i])\n",
    "        prev.next = curr        \n",
    "        prev = curr\n",
    "    \n",
    "    return LL\n",
    "\n",
    "def print_ll(LL):\n",
    "    '''\n",
    "    Prints the word in a Linked List.\n",
    "    '''\n",
    "    curr = LL\n",
    "    res = ''\n",
    "    while curr:\n",
    "        res += curr.val\n",
    "        curr = curr.next\n",
    "    return res\n"
   ]
  },
  {
   "cell_type": "code",
   "execution_count": 19,
   "metadata": {},
   "outputs": [
    {
     "data": {
      "text/plain": [
       "'test'"
      ]
     },
     "execution_count": 19,
     "metadata": {},
     "output_type": "execute_result"
    }
   ],
   "source": [
    "LL = create_ll('test')\n",
    "print_ll(LL)"
   ]
  },
  {
   "cell_type": "markdown",
   "metadata": {},
   "source": [
    "# Solution\n",
    "\n",
    "Since the solution requires O(n) time complexity, the likely solution will involve looping through the LinkedList. That's the easy part. The difficult part will be the O(1) space complexity. \n",
    "\n",
    "To meet the requirements of O(1) space complexity, this will have to be done in place. A potential solution would be to split the linkedlist into 2 halves. Consider a LinkedList with the word 'deed'\n",
    "\n",
    "d --> e --> e --> d\n",
    "\n",
    "Reverse the first half:\n",
    "\n",
    "e --> d\n",
    "\n",
    "Compare to the in-tact second half:\n",
    "\n",
    "e --> d\n",
    "\n"
   ]
  },
  {
   "cell_type": "code",
   "execution_count": 92,
   "metadata": {},
   "outputs": [
    {
     "name": "stdout",
     "output_type": "stream",
     "text": [
      "t acocat cocat\n",
      "at cocat cat\n",
      "cat ocat t\n",
      "cat cat t\n"
     ]
    }
   ],
   "source": [
    "head = create_ll('tacocat') \n",
    "\n",
    "# Initialize a slow pointer and a fast pointer\n",
    "slow = fast = head\n",
    "reverse = None\n",
    "\n",
    "# Reverse the first half of the linkedlist\n",
    "while fast and fast.next:\n",
    "    reverse, reverse.next, slow, fast = slow, reverse, slow.next, fast.next.next\n",
    "    print(print_ll(reverse), print_ll(slow), print_ll(fast))\n",
    "\n",
    "# If there is an odd number of characters, ignore the middle character\n",
    "if fast: slow = slow.next\n",
    "    \n",
    "print(print_ll(reverse), print_ll(slow), print_ll(fast))\n",
    "\n"
   ]
  },
  {
   "cell_type": "markdown",
   "metadata": {},
   "source": [
    "As you can see above, the slow pointer (which is a LinkedList) and the reversed first half are equivalent. Now we just need to prove that."
   ]
  },
  {
   "cell_type": "code",
   "execution_count": 96,
   "metadata": {},
   "outputs": [
    {
     "name": "stdout",
     "output_type": "stream",
     "text": [
      " \n"
     ]
    },
    {
     "data": {
      "text/plain": [
       "True"
      ]
     },
     "execution_count": 96,
     "metadata": {},
     "output_type": "execute_result"
    }
   ],
   "source": [
    "# Loop through the two linkedlists as long as they are equivalent. \n",
    "while slow and slow.val == reverse.val:\n",
    "    slow, reverse = slow.next, reverse.next\n",
    "    print(print_ll(reverse), print_ll(slow))\n",
    "\n",
    "print(print_ll(reverse), print_ll(slow))\n",
    "\n",
    "# If we loop through every element successfully, it means they were equivalent, and they should now be empty\n",
    "not slow"
   ]
  },
  {
   "cell_type": "code",
   "execution_count": 116,
   "metadata": {},
   "outputs": [],
   "source": [
    "def isPalindrome(head):\n",
    "    if head.next == None:\n",
    "        return False\n",
    "    # Initialize a slow pointer and a fast pointer\n",
    "    slow = fast = head\n",
    "    reverse = None\n",
    "   \n",
    "    # Loop through the two linkedlists as long as they are equivalent. \n",
    "    while fast and fast.next:\n",
    "        reverse, reverse.next, slow, fast = slow, reverse, slow.next, fast.next.next\n",
    "    \n",
    "    # If there is an odd number of characters, ignore the middle character\n",
    "    if fast: \n",
    "        slow = slow.next\n",
    "    \n",
    "    # Loop through the two linkedlists as long as they are equivalent. \n",
    "    while slow and slow.val == reverse.val:\n",
    "        slow, reverse = slow.next, reverse.next\n",
    "    \n",
    "    # If we loop through every element successfully, it means they were equivalent \n",
    "    # and they should now be empty\n",
    "    return not slow"
   ]
  },
  {
   "cell_type": "code",
   "execution_count": 117,
   "metadata": {},
   "outputs": [
    {
     "data": {
      "text/plain": [
       "True"
      ]
     },
     "execution_count": 117,
     "metadata": {},
     "output_type": "execute_result"
    }
   ],
   "source": [
    "LL = create_ll('tacocat')\n",
    "\n",
    "isPalindrome(LL)"
   ]
  },
  {
   "cell_type": "markdown",
   "metadata": {},
   "source": [
    "# Test Cases"
   ]
  },
  {
   "cell_type": "code",
   "execution_count": 118,
   "metadata": {},
   "outputs": [],
   "source": [
    "examples = ['tacocat', 'racecar', 'kayak', 'hello', 'world', '!']\n",
    "expected = [True]*3 + [False]*3"
   ]
  },
  {
   "cell_type": "code",
   "execution_count": 119,
   "metadata": {},
   "outputs": [
    {
     "name": "stdout",
     "output_type": "stream",
     "text": [
      "Pass\n",
      "Pass\n",
      "Pass\n",
      "Pass\n",
      "Pass\n",
      "Pass\n"
     ]
    }
   ],
   "source": [
    "for i in range(len(examples)):\n",
    "    if isPalindrome( create_ll(examples[i]) ) == expected[i]:\n",
    "        print('Pass')\n",
    "    else:\n",
    "        print('Fail')"
   ]
  },
  {
   "cell_type": "code",
   "execution_count": null,
   "metadata": {},
   "outputs": [],
   "source": []
  }
 ],
 "metadata": {
  "kernelspec": {
   "display_name": "Python 3",
   "language": "python",
   "name": "python3"
  },
  "language_info": {
   "codemirror_mode": {
    "name": "ipython",
    "version": 3
   },
   "file_extension": ".py",
   "mimetype": "text/x-python",
   "name": "python",
   "nbconvert_exporter": "python",
   "pygments_lexer": "ipython3",
   "version": "3.7.5"
  }
 },
 "nbformat": 4,
 "nbformat_minor": 2
}
